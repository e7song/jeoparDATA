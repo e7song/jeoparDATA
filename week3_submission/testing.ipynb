{
 "cells": [
  {
   "cell_type": "code",
   "execution_count": 19,
   "metadata": {},
   "outputs": [],
   "source": [
    "grid = [[\"-\"] * 3 for _ in range(3)]"
   ]
  },
  {
   "cell_type": "code",
   "execution_count": 20,
   "metadata": {},
   "outputs": [
    {
     "name": "stdout",
     "output_type": "stream",
     "text": [
      "[['-', '-', '-'], ['-', '-', '-'], ['-', '-', '-']]\n"
     ]
    }
   ],
   "source": [
    "print(grid)"
   ]
  },
  {
   "cell_type": "code",
   "execution_count": 56,
   "metadata": {},
   "outputs": [],
   "source": [
    "def display_grid(grid):\n",
    "    print(\"+--------+\")\n",
    "    print(\"  \", end = \"\")\n",
    "    \n",
    "    for i in range(3):\n",
    "        print(f' {i}', end = \"\")\n",
    "    print(\"\")\n",
    "    for r in range(3):\n",
    "        print(f' {r} ', end = \"\")\n",
    "        for c in range(3):\n",
    "            print(grid[r][c], end = \" \")\n",
    "        print(\"\")\n",
    "    print(\"+--------+\")"
   ]
  },
  {
   "cell_type": "code",
   "execution_count": 57,
   "metadata": {},
   "outputs": [
    {
     "name": "stdout",
     "output_type": "stream",
     "text": [
      "+--------+\n",
      "   0 1 2\n",
      " 0 - - - \n",
      " 1 - - - \n",
      " 2 - - - \n",
      "+--------+\n"
     ]
    }
   ],
   "source": [
    "display_grid(grid)"
   ]
  },
  {
   "cell_type": "markdown",
   "metadata": {},
   "source": [
    "idea framework\n",
    "- prompt player to enter in coordinate\n",
    "- display update\n",
    "- check for victory condition\n",
    "    - if grid is filled with no victor, then call it a tie"
   ]
  },
  {
   "cell_type": "code",
   "execution_count": 64,
   "metadata": {},
   "outputs": [],
   "source": [
    "def victory_checker(grid, player):\n",
    "    # assuming a 3x3 grid\n",
    "\n",
    "    # check rows\n",
    "    for r in range(3):\n",
    "        if grid[r][0] == player and grid[r][1] == player and grid[r][2] == player:\n",
    "            return f\"Player {player} wins!\"\n",
    "    # check columns\n",
    "    for c in range(3):\n",
    "        if grid[0][c] == player and grid[1][c] == player and grid[2][c] == player:\n",
    "                return f\"Player {player} wins!\"\n",
    "    # check diagonals\n",
    "    if grid[0][0] == player and grid[1][1] == player and grid[2][2] == player:\n",
    "                    return f\"Player {player} wins!\"\n",
    "    if grid[-1][0] == player and grid[-2][1] == player and grid[-3][2] == player:\n",
    "                    return f\"Player {player} wins!\"\n",
    "    \n",
    "    return \"Continue\""
   ]
  },
  {
   "cell_type": "code",
   "execution_count": 65,
   "metadata": {},
   "outputs": [],
   "source": [
    "tic_tac_toe = [\n",
    "    ['X', 'X', 'X'],  # Player 'X' wins with a horizontal row\n",
    "    ['O', 'O', ' '],\n",
    "    [' ', ' ', ' ']\n",
    "]"
   ]
  },
  {
   "cell_type": "code",
   "execution_count": 66,
   "metadata": {},
   "outputs": [
    {
     "data": {
      "text/plain": [
       "'Player X wins!'"
      ]
     },
     "execution_count": 66,
     "metadata": {},
     "output_type": "execute_result"
    }
   ],
   "source": [
    "victory_checker(tic_tac_toe, 'X')"
   ]
  },
  {
   "cell_type": "code",
   "execution_count": 67,
   "metadata": {},
   "outputs": [
    {
     "name": "stdout",
     "output_type": "stream",
     "text": [
      "+--------+\n",
      "   0 1 2\n",
      " 0 X X X \n",
      " 1 O O   \n",
      " 2       \n",
      "+--------+\n"
     ]
    }
   ],
   "source": [
    "display_grid(tic_tac_toe)"
   ]
  },
  {
   "cell_type": "code",
   "execution_count": null,
   "metadata": {},
   "outputs": [],
   "source": []
  }
 ],
 "metadata": {
  "kernelspec": {
   "display_name": "Python 3",
   "language": "python",
   "name": "python3"
  },
  "language_info": {
   "codemirror_mode": {
    "name": "ipython",
    "version": 3
   },
   "file_extension": ".py",
   "mimetype": "text/x-python",
   "name": "python",
   "nbconvert_exporter": "python",
   "pygments_lexer": "ipython3",
   "version": "3.11.4"
  }
 },
 "nbformat": 4,
 "nbformat_minor": 2
}
